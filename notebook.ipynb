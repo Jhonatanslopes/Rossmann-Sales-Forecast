{
 "cells": [
  {
   "cell_type": "markdown",
   "id": "00af0285",
   "metadata": {},
   "source": [
    "<p align=\"center\">\n",
    "  <img src=\"img/image_principal.jpg\" width=\"1000\" title=\"img-principal\">\n",
    "</p>"
   ]
  },
  {
   "cell_type": "markdown",
   "id": "2a57c52f",
   "metadata": {},
   "source": [
    "# 1.0 CONTEXTO DO PROBLEMA"
   ]
  },
  {
   "cell_type": "markdown",
   "id": "267ba5b8",
   "metadata": {},
   "source": [
    "O CFO da empresa fez uma reunião com todos os Gerentes de Loja e pediu para que cada um deles trouxessem uma previsão das próximas 6 semanas de vendas."
   ]
  },
  {
   "cell_type": "markdown",
   "id": "2148d586",
   "metadata": {},
   "source": [
    "# 2.0 ENTENDIMENTO DO PROBLEMA"
   ]
  },
  {
   "cell_type": "markdown",
   "id": "c16dbb94",
   "metadata": {},
   "source": [
    "**Motivação:**\n",
    "  - A previsão de vendas foi requisitada pelo CFO em uma reunião mensal sobre os resultados das lojas.\n",
    "   \n",
    "**Causa do Raiz do Problema:**\n",
    "   - Dificuldade em determinar o valor do investimento para Reformas de cada Loja.\n",
    "    \n",
    "**Quem é o Stakeholder:**\n",
    "   - Diretor Financeiro (CFO) da Rossmann.\n",
    "    \n",
    "**Formato da Solução:**\n",
    "   - **Granularidade:** Previsão de vendas por Dia da Loja pra os próximos 42 dias, 6 semanas.\n",
    "   - **Tupo de Problema:** Previsão de Vendas.\n",
    "   - **Potênciais Métodos:** Séries Temporais, Regressão.\n",
    "   - **Formato da Entrega:** O valor das Vendas no final de cada 6º semana. E acesso as vendas através do Celular."
   ]
  },
  {
   "cell_type": "markdown",
   "id": "c26c25ff",
   "metadata": {},
   "source": [
    "# 3.0 COLETA DE DADOS"
   ]
  },
  {
   "cell_type": "markdown",
   "id": "0e276e9b",
   "metadata": {},
   "source": [
    "## 3.1 Importações"
   ]
  },
  {
   "cell_type": "code",
   "execution_count": 76,
   "id": "b3eba08e",
   "metadata": {},
   "outputs": [],
   "source": [
    "import pandas as pd\n",
    "import inflection\n",
    "import seaborn as sns\n",
    "import datetime\n",
    "\n",
    "import matplotlib.pyplot as plt"
   ]
  },
  {
   "cell_type": "markdown",
   "id": "d77ebd49",
   "metadata": {},
   "source": [
    "## 3.2 Funções Auxiliares"
   ]
  },
  {
   "cell_type": "markdown",
   "id": "0cd8995a",
   "metadata": {},
   "source": [
    "## 3.3 Carregamento de Dados"
   ]
  },
  {
   "cell_type": "code",
   "execution_count": 77,
   "id": "d0ab4d15",
   "metadata": {},
   "outputs": [
    {
     "data": {
      "text/html": [
       "<div>\n",
       "<style scoped>\n",
       "    .dataframe tbody tr th:only-of-type {\n",
       "        vertical-align: middle;\n",
       "    }\n",
       "\n",
       "    .dataframe tbody tr th {\n",
       "        vertical-align: top;\n",
       "    }\n",
       "\n",
       "    .dataframe thead th {\n",
       "        text-align: right;\n",
       "    }\n",
       "</style>\n",
       "<table border=\"1\" class=\"dataframe\">\n",
       "  <thead>\n",
       "    <tr style=\"text-align: right;\">\n",
       "      <th></th>\n",
       "      <th>Store</th>\n",
       "      <th>DayOfWeek</th>\n",
       "      <th>Date</th>\n",
       "      <th>Sales</th>\n",
       "      <th>Customers</th>\n",
       "      <th>Open</th>\n",
       "      <th>Promo</th>\n",
       "      <th>StateHoliday</th>\n",
       "      <th>SchoolHoliday</th>\n",
       "      <th>StoreType</th>\n",
       "      <th>Assortment</th>\n",
       "      <th>CompetitionDistance</th>\n",
       "      <th>CompetitionOpenSinceMonth</th>\n",
       "      <th>CompetitionOpenSinceYear</th>\n",
       "      <th>Promo2</th>\n",
       "      <th>Promo2SinceWeek</th>\n",
       "      <th>Promo2SinceYear</th>\n",
       "      <th>PromoInterval</th>\n",
       "    </tr>\n",
       "  </thead>\n",
       "  <tbody>\n",
       "    <tr>\n",
       "      <th>0</th>\n",
       "      <td>1</td>\n",
       "      <td>5</td>\n",
       "      <td>2015-07-31</td>\n",
       "      <td>5263</td>\n",
       "      <td>555</td>\n",
       "      <td>1</td>\n",
       "      <td>1</td>\n",
       "      <td>0</td>\n",
       "      <td>1</td>\n",
       "      <td>c</td>\n",
       "      <td>a</td>\n",
       "      <td>1270.0</td>\n",
       "      <td>9.0</td>\n",
       "      <td>2008.0</td>\n",
       "      <td>0</td>\n",
       "      <td>NaN</td>\n",
       "      <td>NaN</td>\n",
       "      <td>NaN</td>\n",
       "    </tr>\n",
       "    <tr>\n",
       "      <th>1</th>\n",
       "      <td>2</td>\n",
       "      <td>5</td>\n",
       "      <td>2015-07-31</td>\n",
       "      <td>6064</td>\n",
       "      <td>625</td>\n",
       "      <td>1</td>\n",
       "      <td>1</td>\n",
       "      <td>0</td>\n",
       "      <td>1</td>\n",
       "      <td>a</td>\n",
       "      <td>a</td>\n",
       "      <td>570.0</td>\n",
       "      <td>11.0</td>\n",
       "      <td>2007.0</td>\n",
       "      <td>1</td>\n",
       "      <td>13.0</td>\n",
       "      <td>2010.0</td>\n",
       "      <td>Jan,Apr,Jul,Oct</td>\n",
       "    </tr>\n",
       "    <tr>\n",
       "      <th>2</th>\n",
       "      <td>3</td>\n",
       "      <td>5</td>\n",
       "      <td>2015-07-31</td>\n",
       "      <td>8314</td>\n",
       "      <td>821</td>\n",
       "      <td>1</td>\n",
       "      <td>1</td>\n",
       "      <td>0</td>\n",
       "      <td>1</td>\n",
       "      <td>a</td>\n",
       "      <td>a</td>\n",
       "      <td>14130.0</td>\n",
       "      <td>12.0</td>\n",
       "      <td>2006.0</td>\n",
       "      <td>1</td>\n",
       "      <td>14.0</td>\n",
       "      <td>2011.0</td>\n",
       "      <td>Jan,Apr,Jul,Oct</td>\n",
       "    </tr>\n",
       "    <tr>\n",
       "      <th>3</th>\n",
       "      <td>4</td>\n",
       "      <td>5</td>\n",
       "      <td>2015-07-31</td>\n",
       "      <td>13995</td>\n",
       "      <td>1498</td>\n",
       "      <td>1</td>\n",
       "      <td>1</td>\n",
       "      <td>0</td>\n",
       "      <td>1</td>\n",
       "      <td>c</td>\n",
       "      <td>c</td>\n",
       "      <td>620.0</td>\n",
       "      <td>9.0</td>\n",
       "      <td>2009.0</td>\n",
       "      <td>0</td>\n",
       "      <td>NaN</td>\n",
       "      <td>NaN</td>\n",
       "      <td>NaN</td>\n",
       "    </tr>\n",
       "    <tr>\n",
       "      <th>4</th>\n",
       "      <td>5</td>\n",
       "      <td>5</td>\n",
       "      <td>2015-07-31</td>\n",
       "      <td>4822</td>\n",
       "      <td>559</td>\n",
       "      <td>1</td>\n",
       "      <td>1</td>\n",
       "      <td>0</td>\n",
       "      <td>1</td>\n",
       "      <td>a</td>\n",
       "      <td>a</td>\n",
       "      <td>29910.0</td>\n",
       "      <td>4.0</td>\n",
       "      <td>2015.0</td>\n",
       "      <td>0</td>\n",
       "      <td>NaN</td>\n",
       "      <td>NaN</td>\n",
       "      <td>NaN</td>\n",
       "    </tr>\n",
       "  </tbody>\n",
       "</table>\n",
       "</div>"
      ],
      "text/plain": [
       "   Store  DayOfWeek        Date  Sales  Customers  Open  Promo StateHoliday  \\\n",
       "0      1          5  2015-07-31   5263        555     1      1            0   \n",
       "1      2          5  2015-07-31   6064        625     1      1            0   \n",
       "2      3          5  2015-07-31   8314        821     1      1            0   \n",
       "3      4          5  2015-07-31  13995       1498     1      1            0   \n",
       "4      5          5  2015-07-31   4822        559     1      1            0   \n",
       "\n",
       "   SchoolHoliday StoreType Assortment  CompetitionDistance  \\\n",
       "0              1         c          a               1270.0   \n",
       "1              1         a          a                570.0   \n",
       "2              1         a          a              14130.0   \n",
       "3              1         c          c                620.0   \n",
       "4              1         a          a              29910.0   \n",
       "\n",
       "   CompetitionOpenSinceMonth  CompetitionOpenSinceYear  Promo2  \\\n",
       "0                        9.0                    2008.0       0   \n",
       "1                       11.0                    2007.0       1   \n",
       "2                       12.0                    2006.0       1   \n",
       "3                        9.0                    2009.0       0   \n",
       "4                        4.0                    2015.0       0   \n",
       "\n",
       "   Promo2SinceWeek  Promo2SinceYear    PromoInterval  \n",
       "0              NaN              NaN              NaN  \n",
       "1             13.0           2010.0  Jan,Apr,Jul,Oct  \n",
       "2             14.0           2011.0  Jan,Apr,Jul,Oct  \n",
       "3              NaN              NaN              NaN  \n",
       "4              NaN              NaN              NaN  "
      ]
     },
     "execution_count": 77,
     "metadata": {},
     "output_type": "execute_result"
    }
   ],
   "source": [
    "df_sales = pd.read_csv('data/train.csv', low_memory=False)\n",
    "df_store = pd.read_csv('data/store.csv', low_memory=False)\n",
    "\n",
    "# merge data\n",
    "df_raw = pd.merge(df_sales, df_store, how='left', on='Store')\n",
    "\n",
    "df_raw.head()"
   ]
  },
  {
   "cell_type": "markdown",
   "id": "97214c4b",
   "metadata": {},
   "source": [
    "# 4.0 DESCRIÇÃO DE DADOS"
   ]
  },
  {
   "cell_type": "markdown",
   "id": "2a0cb6f9",
   "metadata": {},
   "source": [
    "## 4.1 Dimensão de Dados"
   ]
  },
  {
   "cell_type": "code",
   "execution_count": 78,
   "id": "93184d02",
   "metadata": {},
   "outputs": [
    {
     "name": "stdout",
     "output_type": "stream",
     "text": [
      "Número de Linhas: 1017209\n",
      "Número de Colunas: 18\n"
     ]
    }
   ],
   "source": [
    "row = df_raw.shape[0]\n",
    "col = df_raw.shape[1]\n",
    "\n",
    "print(f'Número de Linhas: {row}')\n",
    "print(f'Número de Colunas: {col}')"
   ]
  },
  {
   "cell_type": "markdown",
   "id": "193f796c",
   "metadata": {},
   "source": [
    "## 4.2 Tipo de Dados"
   ]
  },
  {
   "cell_type": "code",
   "execution_count": 79,
   "id": "51f9cb98",
   "metadata": {},
   "outputs": [
    {
     "data": {
      "text/plain": [
       "Store                                 int64\n",
       "DayOfWeek                             int64\n",
       "Date                         datetime64[ns]\n",
       "Sales                                 int64\n",
       "Customers                             int64\n",
       "Open                                  int64\n",
       "Promo                                 int64\n",
       "StateHoliday                         object\n",
       "SchoolHoliday                         int64\n",
       "StoreType                            object\n",
       "Assortment                           object\n",
       "CompetitionDistance                 float64\n",
       "CompetitionOpenSinceMonth           float64\n",
       "CompetitionOpenSinceYear            float64\n",
       "Promo2                                int64\n",
       "Promo2SinceWeek                     float64\n",
       "Promo2SinceYear                     float64\n",
       "PromoInterval                        object\n",
       "dtype: object"
      ]
     },
     "execution_count": 79,
     "metadata": {},
     "output_type": "execute_result"
    }
   ],
   "source": [
    "df_raw['Date'] = pd.to_datetime(df_raw['Date'])\n",
    "df_raw.dtypes"
   ]
  },
  {
   "cell_type": "markdown",
   "id": "011dbd35",
   "metadata": {},
   "source": [
    "## 4.3 Verificação de Dados Faltantes"
   ]
  },
  {
   "cell_type": "code",
   "execution_count": 80,
   "id": "ee3ffcbf",
   "metadata": {},
   "outputs": [
    {
     "data": {
      "text/plain": [
       "Store                             0\n",
       "DayOfWeek                         0\n",
       "Date                              0\n",
       "Sales                             0\n",
       "Customers                         0\n",
       "Open                              0\n",
       "Promo                             0\n",
       "StateHoliday                      0\n",
       "SchoolHoliday                     0\n",
       "StoreType                         0\n",
       "Assortment                        0\n",
       "CompetitionDistance            2642\n",
       "CompetitionOpenSinceMonth    323348\n",
       "CompetitionOpenSinceYear     323348\n",
       "Promo2                            0\n",
       "Promo2SinceWeek              508031\n",
       "Promo2SinceYear              508031\n",
       "PromoInterval                508031\n",
       "dtype: int64"
      ]
     },
     "execution_count": 80,
     "metadata": {},
     "output_type": "execute_result"
    }
   ],
   "source": [
    "df_raw.isna().sum()"
   ]
  },
  {
   "cell_type": "markdown",
   "id": "c57300cc",
   "metadata": {},
   "source": [
    "## 4.4 Limpeza de Dados"
   ]
  },
  {
   "cell_type": "markdown",
   "id": "fb0a5875",
   "metadata": {},
   "source": [
    "### 4.4.1 Renomeação de Colunas"
   ]
  },
  {
   "cell_type": "code",
   "execution_count": 81,
   "id": "0e8686f2",
   "metadata": {},
   "outputs": [
    {
     "data": {
      "text/plain": [
       "Index(['store', 'day_of_week', 'date', 'sales', 'customers', 'open', 'promo',\n",
       "       'state_holiday', 'school_holiday', 'store_type', 'assortment',\n",
       "       'competition_distance', 'competition_open_since_month',\n",
       "       'competition_open_since_year', 'promo2', 'promo2_since_week',\n",
       "       'promo2_since_year', 'promo_interval'],\n",
       "      dtype='object')"
      ]
     },
     "execution_count": 81,
     "metadata": {},
     "output_type": "execute_result"
    }
   ],
   "source": [
    "cols_old = list(df_raw.columns)\n",
    "\n",
    "snakeCase = lambda x: inflection.underscore(x)\n",
    "cols_new = list(map(snakeCase, cols_old))\n",
    "\n",
    "df_raw.columns = cols_new\n",
    "df_raw.columns"
   ]
  },
  {
   "cell_type": "markdown",
   "id": "0e31edbc",
   "metadata": {},
   "source": [
    "### 4.4.2 Tratamento de Dados Faltantes"
   ]
  },
  {
   "cell_type": "code",
   "execution_count": 82,
   "id": "5933ed0d",
   "metadata": {},
   "outputs": [
    {
     "data": {
      "text/plain": [
       "store                           0\n",
       "day_of_week                     0\n",
       "date                            0\n",
       "sales                           0\n",
       "customers                       0\n",
       "open                            0\n",
       "promo                           0\n",
       "state_holiday                   0\n",
       "school_holiday                  0\n",
       "store_type                      0\n",
       "assortment                      0\n",
       "competition_distance            0\n",
       "competition_open_since_month    0\n",
       "competition_open_since_year     0\n",
       "promo2                          0\n",
       "promo2_since_week               0\n",
       "promo2_since_year               0\n",
       "promo_interval                  0\n",
       "month_map                       0\n",
       "is_promo                        0\n",
       "dtype: int64"
      ]
     },
     "execution_count": 82,
     "metadata": {},
     "output_type": "execute_result"
    }
   ],
   "source": [
    "# -- competition_distance\n",
    "df_raw['competition_distance'] = df_raw['competition_distance'].apply(lambda x: 200000.0 if pd.isnull(x) else x)\n",
    "\n",
    "\n",
    "# -- competition_open_since_month\n",
    "df_raw['competition_open_since_month'] = df_raw[['date', 'competition_open_since_month']].apply(lambda x: x['date'].month if pd.isnull(x['competition_open_since_month']) else x['competition_open_since_month'], axis=1)\n",
    "\n",
    "\n",
    "# -- competition_open_since_year \n",
    "df_raw['competition_open_since_year'] = df_raw[['date', 'competition_open_since_year']].apply(lambda x: x['date'].year if pd.isnull(x['competition_open_since_year']) else x['competition_open_since_year'], axis=1)\n",
    "\n",
    "\n",
    "# -- promo2_since_week\n",
    "df_raw['promo2_since_week'] = df_raw[['date', 'promo2_since_week']].apply(lambda x: x['date'].week if pd.isnull(x['promo2_since_week']) else x['promo2_since_week'], axis=1)\n",
    "\n",
    "\n",
    "# -- promo2_since_year  \n",
    "df_raw['promo2_since_year'] = df_raw[['date', 'promo2_since_year']].apply(lambda x: x['date'].year if pd.isnull(x['promo2_since_year']) else x['promo2_since_year'], axis=1)\n",
    "\n",
    "\n",
    "# -- promo_interval\n",
    "month_map = {1: 'Jan', 2: 'Fev', 3: 'Mar', 4: 'Apr', 5: 'May', 6: 'Jun', 7: 'Jul', 8: 'Aug', 9: 'Sep', 10: 'Oct', 11: 'Nov', 12: 'Dec'}\n",
    "\n",
    "df_raw['promo_interval'].fillna(0, inplace=True)\n",
    "df_raw['month_map'] = df_raw['date'].dt.month.map(month_map)\n",
    "\n",
    "df_raw['is_promo'] = df_raw[['promo_interval', 'month_map']].apply(lambda x: 0 if x['promo_interval'] == 0 else 1 if x['month_map'] in x['promo_interval'].split(',') else 0, axis=1)\n",
    "\n",
    "\n",
    "# Show NaN\n",
    "df_raw.isna().sum()"
   ]
  },
  {
   "cell_type": "markdown",
   "id": "14029ff5",
   "metadata": {},
   "source": [
    "### 4.4.3 Mudança de Tipo nos Dados"
   ]
  },
  {
   "cell_type": "code",
   "execution_count": 83,
   "id": "7743dab3",
   "metadata": {},
   "outputs": [],
   "source": [
    "# competition_open_since_month\n",
    "df_raw['competition_open_since_month'] = df_raw['competition_open_since_month'].astype('int64')\n",
    "\n",
    "\n",
    "# competition_open_since_year\n",
    "df_raw['competition_open_since_year'] = df_raw['competition_open_since_year'].astype('int64')\n",
    "\n",
    "\n",
    "#cpromo2_since_week\n",
    "df_raw['promo2_since_week'] = df_raw['promo2_since_week'].astype('int64')\n",
    "\n",
    "\n",
    "# promo2_since_year\n",
    "df_raw['promo2_since_year'] = df_raw['promo2_since_year'].astype('int64')"
   ]
  },
  {
   "cell_type": "markdown",
   "id": "45bac78e",
   "metadata": {},
   "source": [
    "## 4.5 Estatistica Descritiva"
   ]
  },
  {
   "cell_type": "markdown",
   "id": "ffe13682",
   "metadata": {},
   "source": [
    "### 4.5.1 Atributos Numéricos"
   ]
  },
  {
   "cell_type": "code",
   "execution_count": 84,
   "id": "31208d7c",
   "metadata": {},
   "outputs": [
    {
     "data": {
      "text/html": [
       "<div>\n",
       "<style scoped>\n",
       "    .dataframe tbody tr th:only-of-type {\n",
       "        vertical-align: middle;\n",
       "    }\n",
       "\n",
       "    .dataframe tbody tr th {\n",
       "        vertical-align: top;\n",
       "    }\n",
       "\n",
       "    .dataframe thead th {\n",
       "        text-align: right;\n",
       "    }\n",
       "</style>\n",
       "<table border=\"1\" class=\"dataframe\">\n",
       "  <thead>\n",
       "    <tr style=\"text-align: right;\">\n",
       "      <th></th>\n",
       "      <th>count</th>\n",
       "      <th>mean</th>\n",
       "      <th>std</th>\n",
       "      <th>min</th>\n",
       "      <th>25%</th>\n",
       "      <th>50%</th>\n",
       "      <th>75%</th>\n",
       "      <th>max</th>\n",
       "      <th>skews</th>\n",
       "      <th>kurtosis</th>\n",
       "    </tr>\n",
       "  </thead>\n",
       "  <tbody>\n",
       "    <tr>\n",
       "      <th>store</th>\n",
       "      <td>1017209.0</td>\n",
       "      <td>558.429727</td>\n",
       "      <td>321.908651</td>\n",
       "      <td>1.0</td>\n",
       "      <td>280.0</td>\n",
       "      <td>558.0</td>\n",
       "      <td>838.0</td>\n",
       "      <td>1115.0</td>\n",
       "      <td>-0.000955</td>\n",
       "      <td>-1.200524</td>\n",
       "    </tr>\n",
       "    <tr>\n",
       "      <th>day_of_week</th>\n",
       "      <td>1017209.0</td>\n",
       "      <td>3.998341</td>\n",
       "      <td>1.997391</td>\n",
       "      <td>1.0</td>\n",
       "      <td>2.0</td>\n",
       "      <td>4.0</td>\n",
       "      <td>6.0</td>\n",
       "      <td>7.0</td>\n",
       "      <td>0.001593</td>\n",
       "      <td>-1.246873</td>\n",
       "    </tr>\n",
       "    <tr>\n",
       "      <th>sales</th>\n",
       "      <td>1017209.0</td>\n",
       "      <td>5773.818972</td>\n",
       "      <td>3849.926175</td>\n",
       "      <td>0.0</td>\n",
       "      <td>3727.0</td>\n",
       "      <td>5744.0</td>\n",
       "      <td>7856.0</td>\n",
       "      <td>41551.0</td>\n",
       "      <td>0.641460</td>\n",
       "      <td>1.778375</td>\n",
       "    </tr>\n",
       "    <tr>\n",
       "      <th>customers</th>\n",
       "      <td>1017209.0</td>\n",
       "      <td>633.145946</td>\n",
       "      <td>464.411734</td>\n",
       "      <td>0.0</td>\n",
       "      <td>405.0</td>\n",
       "      <td>609.0</td>\n",
       "      <td>837.0</td>\n",
       "      <td>7388.0</td>\n",
       "      <td>1.598650</td>\n",
       "      <td>7.091773</td>\n",
       "    </tr>\n",
       "    <tr>\n",
       "      <th>open</th>\n",
       "      <td>1017209.0</td>\n",
       "      <td>0.830107</td>\n",
       "      <td>0.375539</td>\n",
       "      <td>0.0</td>\n",
       "      <td>1.0</td>\n",
       "      <td>1.0</td>\n",
       "      <td>1.0</td>\n",
       "      <td>1.0</td>\n",
       "      <td>-1.758045</td>\n",
       "      <td>1.090723</td>\n",
       "    </tr>\n",
       "    <tr>\n",
       "      <th>promo</th>\n",
       "      <td>1017209.0</td>\n",
       "      <td>0.381515</td>\n",
       "      <td>0.485759</td>\n",
       "      <td>0.0</td>\n",
       "      <td>0.0</td>\n",
       "      <td>0.0</td>\n",
       "      <td>1.0</td>\n",
       "      <td>1.0</td>\n",
       "      <td>0.487838</td>\n",
       "      <td>-1.762018</td>\n",
       "    </tr>\n",
       "    <tr>\n",
       "      <th>school_holiday</th>\n",
       "      <td>1017209.0</td>\n",
       "      <td>0.178647</td>\n",
       "      <td>0.383056</td>\n",
       "      <td>0.0</td>\n",
       "      <td>0.0</td>\n",
       "      <td>0.0</td>\n",
       "      <td>0.0</td>\n",
       "      <td>1.0</td>\n",
       "      <td>1.677842</td>\n",
       "      <td>0.815154</td>\n",
       "    </tr>\n",
       "    <tr>\n",
       "      <th>competition_distance</th>\n",
       "      <td>1017209.0</td>\n",
       "      <td>5935.442677</td>\n",
       "      <td>12547.652996</td>\n",
       "      <td>20.0</td>\n",
       "      <td>710.0</td>\n",
       "      <td>2330.0</td>\n",
       "      <td>6910.0</td>\n",
       "      <td>200000.0</td>\n",
       "      <td>10.242344</td>\n",
       "      <td>147.789712</td>\n",
       "    </tr>\n",
       "    <tr>\n",
       "      <th>competition_open_since_month</th>\n",
       "      <td>1017209.0</td>\n",
       "      <td>6.786849</td>\n",
       "      <td>3.311087</td>\n",
       "      <td>1.0</td>\n",
       "      <td>4.0</td>\n",
       "      <td>7.0</td>\n",
       "      <td>10.0</td>\n",
       "      <td>12.0</td>\n",
       "      <td>-0.042076</td>\n",
       "      <td>-1.232607</td>\n",
       "    </tr>\n",
       "    <tr>\n",
       "      <th>competition_open_since_year</th>\n",
       "      <td>1017209.0</td>\n",
       "      <td>2010.324840</td>\n",
       "      <td>5.515593</td>\n",
       "      <td>1900.0</td>\n",
       "      <td>2008.0</td>\n",
       "      <td>2012.0</td>\n",
       "      <td>2014.0</td>\n",
       "      <td>2015.0</td>\n",
       "      <td>-7.235657</td>\n",
       "      <td>124.071304</td>\n",
       "    </tr>\n",
       "    <tr>\n",
       "      <th>promo2</th>\n",
       "      <td>1017209.0</td>\n",
       "      <td>0.500564</td>\n",
       "      <td>0.500000</td>\n",
       "      <td>0.0</td>\n",
       "      <td>0.0</td>\n",
       "      <td>1.0</td>\n",
       "      <td>1.0</td>\n",
       "      <td>1.0</td>\n",
       "      <td>-0.002255</td>\n",
       "      <td>-1.999999</td>\n",
       "    </tr>\n",
       "    <tr>\n",
       "      <th>promo2_since_week</th>\n",
       "      <td>1017209.0</td>\n",
       "      <td>23.619033</td>\n",
       "      <td>14.310064</td>\n",
       "      <td>1.0</td>\n",
       "      <td>12.0</td>\n",
       "      <td>22.0</td>\n",
       "      <td>37.0</td>\n",
       "      <td>52.0</td>\n",
       "      <td>0.178723</td>\n",
       "      <td>-1.184046</td>\n",
       "    </tr>\n",
       "    <tr>\n",
       "      <th>promo2_since_year</th>\n",
       "      <td>1017209.0</td>\n",
       "      <td>2012.793297</td>\n",
       "      <td>1.662658</td>\n",
       "      <td>2009.0</td>\n",
       "      <td>2012.0</td>\n",
       "      <td>2013.0</td>\n",
       "      <td>2014.0</td>\n",
       "      <td>2015.0</td>\n",
       "      <td>-0.784436</td>\n",
       "      <td>-0.210075</td>\n",
       "    </tr>\n",
       "    <tr>\n",
       "      <th>is_promo</th>\n",
       "      <td>1017209.0</td>\n",
       "      <td>0.155231</td>\n",
       "      <td>0.362125</td>\n",
       "      <td>0.0</td>\n",
       "      <td>0.0</td>\n",
       "      <td>0.0</td>\n",
       "      <td>0.0</td>\n",
       "      <td>1.0</td>\n",
       "      <td>1.904152</td>\n",
       "      <td>1.625796</td>\n",
       "    </tr>\n",
       "  </tbody>\n",
       "</table>\n",
       "</div>"
      ],
      "text/plain": [
       "                                  count         mean           std     min  \\\n",
       "store                         1017209.0   558.429727    321.908651     1.0   \n",
       "day_of_week                   1017209.0     3.998341      1.997391     1.0   \n",
       "sales                         1017209.0  5773.818972   3849.926175     0.0   \n",
       "customers                     1017209.0   633.145946    464.411734     0.0   \n",
       "open                          1017209.0     0.830107      0.375539     0.0   \n",
       "promo                         1017209.0     0.381515      0.485759     0.0   \n",
       "school_holiday                1017209.0     0.178647      0.383056     0.0   \n",
       "competition_distance          1017209.0  5935.442677  12547.652996    20.0   \n",
       "competition_open_since_month  1017209.0     6.786849      3.311087     1.0   \n",
       "competition_open_since_year   1017209.0  2010.324840      5.515593  1900.0   \n",
       "promo2                        1017209.0     0.500564      0.500000     0.0   \n",
       "promo2_since_week             1017209.0    23.619033     14.310064     1.0   \n",
       "promo2_since_year             1017209.0  2012.793297      1.662658  2009.0   \n",
       "is_promo                      1017209.0     0.155231      0.362125     0.0   \n",
       "\n",
       "                                 25%     50%     75%       max      skews  \\\n",
       "store                          280.0   558.0   838.0    1115.0  -0.000955   \n",
       "day_of_week                      2.0     4.0     6.0       7.0   0.001593   \n",
       "sales                         3727.0  5744.0  7856.0   41551.0   0.641460   \n",
       "customers                      405.0   609.0   837.0    7388.0   1.598650   \n",
       "open                             1.0     1.0     1.0       1.0  -1.758045   \n",
       "promo                            0.0     0.0     1.0       1.0   0.487838   \n",
       "school_holiday                   0.0     0.0     0.0       1.0   1.677842   \n",
       "competition_distance           710.0  2330.0  6910.0  200000.0  10.242344   \n",
       "competition_open_since_month     4.0     7.0    10.0      12.0  -0.042076   \n",
       "competition_open_since_year   2008.0  2012.0  2014.0    2015.0  -7.235657   \n",
       "promo2                           0.0     1.0     1.0       1.0  -0.002255   \n",
       "promo2_since_week               12.0    22.0    37.0      52.0   0.178723   \n",
       "promo2_since_year             2012.0  2013.0  2014.0    2015.0  -0.784436   \n",
       "is_promo                         0.0     0.0     0.0       1.0   1.904152   \n",
       "\n",
       "                                kurtosis  \n",
       "store                          -1.200524  \n",
       "day_of_week                    -1.246873  \n",
       "sales                           1.778375  \n",
       "customers                       7.091773  \n",
       "open                            1.090723  \n",
       "promo                          -1.762018  \n",
       "school_holiday                  0.815154  \n",
       "competition_distance          147.789712  \n",
       "competition_open_since_month   -1.232607  \n",
       "competition_open_since_year   124.071304  \n",
       "promo2                         -1.999999  \n",
       "promo2_since_week              -1.184046  \n",
       "promo2_since_year              -0.210075  \n",
       "is_promo                        1.625796  "
      ]
     },
     "execution_count": 84,
     "metadata": {},
     "output_type": "execute_result"
    }
   ],
   "source": [
    "num_attributes = df_raw.select_dtypes(include=['int64', 'float64'])\n",
    "\n",
    "describe = num_attributes.describe().T\n",
    "\n",
    "# Add Kutsosis and Skew\n",
    "describe['skews'] = num_attributes.apply(lambda x: x.skew()) \n",
    "describe['kurtosis'] = num_attributes.apply(lambda x: x.kurtosis()) \n",
    "\n",
    "describe"
   ]
  },
  {
   "cell_type": "markdown",
   "id": "9d1bd2c0",
   "metadata": {},
   "source": [
    "### 4.5.2 Atributos Categóricos"
   ]
  },
  {
   "cell_type": "code",
   "execution_count": 85,
   "id": "3958da60",
   "metadata": {},
   "outputs": [
    {
     "data": {
      "image/png": "[encoded data removed]",
      "text/plain": [
       "<Figure size 1224x432 with 1 Axes>"
      ]
     },
     "metadata": {
      "needs_background": "light"
     },
     "output_type": "display_data"
    },
    {
     "data": {
      "image/png": "[encoded data removed]",
      "text/plain": [
       "<Figure size 1152x504 with 3 Axes>"
      ]
     },
     "metadata": {
      "needs_background": "light"
     },
     "output_type": "display_data"
    }
   ],
   "source": [
    "# Filter Categories\n",
    "cat_attributes = df_raw.select_dtypes(include=['object']) \n",
    "\n",
    "\n",
    "# -- Figure 1\n",
    "unique_values = cat_attributes.apply(lambda x: len(x.unique())).sort_values(ascending=False)\n",
    "plt.figure(figsize=(17, 6))\n",
    "sns.barplot(x=unique_values.index, y=unique_values.values)\n",
    "\n",
    "\n",
    "# -- Figure 2\n",
    "filter_zero = df_raw[(df_raw['state_holiday'] != '0') & (df_raw['sales'] > 0)]\n",
    "\n",
    "plt.figure(figsize=(16, 7))\n",
    "plt.subplot(1, 3, 1)\n",
    "sns.boxplot(x='state_holiday', y='sales', data=filter_zero)\n",
    "\n",
    "plt.subplot(1, 3, 2)\n",
    "sns.boxplot(x='store_type', y='sales', data=filter_zero)\n",
    "\n",
    "plt.subplot(1, 3, 3)\n",
    "sns.boxplot(x='assortment', y='sales', data=filter_zero);"
   ]
  },
  {
   "cell_type": "markdown",
   "id": "88879a64",
   "metadata": {},
   "source": [
    "# 5.0 LVENATAMENTO DE HIPÓTESES"
   ]
  },
  {
   "cell_type": "markdown",
   "id": "17917e74",
   "metadata": {},
   "source": [
    "## 5.1 Mapa Mental de Hipóteses"
   ]
  },
  {
   "cell_type": "markdown",
   "id": "2e332721",
   "metadata": {},
   "source": [
    "<p align=\"center\">\n",
    "  <img src=\"img/mind_map.png\" width=\"1000\" title=\"img-principal\">\n",
    "</p>"
   ]
  },
  {
   "cell_type": "markdown",
   "id": "e57eb6f4",
   "metadata": {},
   "source": [
    "## 5.2 Criação de Hipóteses"
   ]
  },
  {
   "cell_type": "markdown",
   "id": "c8ea41d7",
   "metadata": {},
   "source": [
    "### 5.2.1  Hipópteses Loja"
   ]
  },
  {
   "cell_type": "markdown",
   "id": "eaaa3850",
   "metadata": {},
   "source": [
    "**1.** Lojas númeuro maior de funcionários vendem mais.\n",
    "\n",
    "**2.** Lojas com maior capacidade de estoque vendem mais.\n",
    "\n",
    "**3.** Lojas com maior porte vendem mais.\n",
    "\n",
    "**4.** Lojas com maior sortimento vendem mais.\n",
    "\n",
    "**5.** Lojas com competidores mais próximos vendem menos.\n",
    "\n",
    "**6.** Lojas com competidores à mais tempo vendem mais."
   ]
  },
  {
   "cell_type": "markdown",
   "id": "aa5cd760",
   "metadata": {},
   "source": [
    "### 5.2.2 Hipóteses Produto"
   ]
  },
  {
   "cell_type": "markdown",
   "id": "38e53c51",
   "metadata": {},
   "source": [
    "**1.** Lojas que investem mais em Marketing vendem mais.\n",
    "\n",
    "**2.** Lojas com mais exposição de produtos vendem mais.\n",
    "\n",
    "**3.** Lojas com menores preços nos produtos vendem mais.\n",
    "\n",
    "**4.** Lojas com promoções mais agressivas (descontos maiores), vendem mais.\n",
    "\n",
    "**5.** Lojas com promoções ativas por mais tempo vendem mais.\n",
    "\n",
    "**6.** Lojas com mais dias de promoção vendem mais.\n",
    "\n",
    "**7.** Lojas com mais promoções consecutivas vendem mais."
   ]
  },
  {
   "cell_type": "markdown",
   "id": "50247d99",
   "metadata": {},
   "source": [
    "### 5.2.3 Hipóteses Tempo"
   ]
  },
  {
   "cell_type": "markdown",
   "id": "a6ec8d94",
   "metadata": {},
   "source": [
    "**1.** Lojas abertas durante o feriado de Natal vendem mais.\n",
    "\n",
    "**2.** Lojas vendem mais ao longo dos anos.\n",
    "\n",
    "**3.** Lojas vendem mais no segundo semestre do ano.\n",
    "\n",
    "**4.** Lojas vendem mais depois do dia 10 de cada mês.\n",
    "\n",
    "**5.** Lojas vendem menos aos finais de semana.\n",
    "\n",
    "**6.** Lojas vendem menos durante os feriados escolares."
   ]
  },
  {
   "cell_type": "markdown",
   "id": "f0e8bdb0",
   "metadata": {},
   "source": [
    "## 5.3 Lista Final de Hipóteses"
   ]
  },
  {
   "cell_type": "markdown",
   "id": "21ae45b2",
   "metadata": {},
   "source": [
    "**1.** Lojas com maior sortimento vendem mais.\n",
    "\n",
    "**2.** Lojas com competidores mais próximos vendem menos.\n",
    "\n",
    "**3.** Lojas com competidores à mais tempo vendem mais."
   ]
  },
  {
   "cell_type": "markdown",
   "id": "2b30f01a",
   "metadata": {},
   "source": [
    "**4.** Lojas com promoções ativas por mais tempo vendem mais.\n",
    "\n",
    "**5.** Lojas com mais dias de promoção vendem mais.\n",
    "\n",
    "**6.** Lojas com mais promoções consecutivas vendem mais."
   ]
  },
  {
   "cell_type": "markdown",
   "id": "e259b8c2",
   "metadata": {},
   "source": [
    "**7.** Lojas abertas durante o feriado de Natal vendem mais.\n",
    "\n",
    "**8.** Lojas vendem mais ao longo dos anos.\n",
    "\n",
    "**9.** Lojas vendem mais no segundo semestre do ano.\n",
    "\n",
    "**10.** Lojas vendem mais depois do dia 10 de cada mês.\n",
    "\n",
    "**11.** Lojas vendem menos aos finais de semana.\n",
    "\n",
    "**12.** Lojas vendem menos durante os feriados escolares."
   ]
  },
  {
   "cell_type": "markdown",
   "id": "dc1011ca",
   "metadata": {},
   "source": [
    "# 6.0 FEATURE ENGINEERING"
   ]
  },
  {
   "cell_type": "code",
   "execution_count": 90,
   "id": "e7c35001",
   "metadata": {},
   "outputs": [],
   "source": [
    "# Year\n",
    "df_raw['year'] = df_raw['date'].dt.year\n",
    "\n",
    "# Month\n",
    "df_raw['month'] = df_raw['date'].dt.month\n",
    "\n",
    "\n",
    "# Day\n",
    "df_raw['day'] = df_raw['date'].dt.day\n",
    "\n",
    "\n",
    "# Week of Year\n",
    "df_raw['week_of_year'] = df_raw['date'].dt.isocalendar().week\n",
    "\n",
    "\n",
    "# Year Week\n",
    "df_raw['year_week'] = df_raw['date'].dt.strftime('%Y-%W')\n",
    "\n",
    "\n",
    "# Competition since\n",
    "df_raw['competition_since'] = df_raw.apply(lambda x: datetime.datetime(year=x['competition_open_since_year'], month=x['competition_open_since_month'], day=1), axis=1)\n",
    "df_raw['competition_time_month'] = ((df_raw['date'] - df_raw['competition_since']) / 30).apply(lambda x: x.days).astype('int')\n",
    "                                                                                                            \n",
    "                                                                                                            \n",
    "# Promo since\n",
    "df_raw['promo_since'] = df_raw['promo2_since_year'].astype('str') + '-' + df_raw['promo2_since_week'].astype('str')\n",
    "df_raw['promo_since'] = df_raw['promo_since'].apply(lambda x: datetime.datetime.strptime(x + '-1', '%Y-%W-%w') - datetime.timedelta(days=7))\n",
    "df_raw['promo_time_week'] = ((df_raw['date'] - df_raw['promo_since']) / 7).apply(lambda x: x.days).astype('int')\n",
    "\n",
    "\n",
    "# Assortment\n",
    "df_raw['assortment'] = df_raw['assortment'].apply(lambda x: 'basic' if x == 'a' else 'extra' if x == 'b' else 'extended')\n",
    "            \n",
    "                                                                                                            \n",
    "# State Holiday\n",
    "df_raw['state_holiday'] = df_raw['state_holiday'].apply(lambda x: 'public_holiday' if x == 'a'  else 'easter_holiday' if x == 'b' else 'christmas' if x == 'c' else 'regular_day')"
   ]
  },
  {
   "cell_type": "code",
   "execution_count": null,
   "id": "67b205c0",
   "metadata": {},
   "outputs": [],
   "source": []
  },
  {
   "cell_type": "code",
   "execution_count": null,
   "id": "c818a975",
   "metadata": {},
   "outputs": [],
   "source": []
  },
  {
   "cell_type": "code",
   "execution_count": null,
   "id": "cb000718",
   "metadata": {},
   "outputs": [],
   "source": []
  }
 ],
 "metadata": {
  "kernelspec": {
   "display_name": "Python 3 (ipykernel)",
   "language": "python",
   "name": "python3"
  },
  "language_info": {
   "codemirror_mode": {
    "name": "ipython",
    "version": 3
   },
   "file_extension": ".py",
   "mimetype": "text/x-python",
   "name": "python",
   "nbconvert_exporter": "python",
   "pygments_lexer": "ipython3",
   "version": "3.8.12"
  }
 },
 "nbformat": 4,
 "nbformat_minor": 5
}
